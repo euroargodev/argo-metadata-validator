{
 "cells": [
  {
   "cell_type": "code",
   "execution_count": null,
   "id": "9e6ff384-c1aa-4ede-8f66-1382b64861d1",
   "metadata": {},
   "outputs": [],
   "source": [
    "pip install -U --quiet argo-metadata-validator"
   ]
  },
  {
   "cell_type": "code",
   "execution_count": null,
   "id": "0e3b6b5a-d68f-4143-9caa-3bd7d3efe360",
   "metadata": {},
   "outputs": [],
   "source": [
    "# Example of validating some files\n",
    "from argo_metadata_validator.validation import ArgoValidator\n",
    "\n",
    "ArgoValidator().validate([\"argo/valid_sensor.json\", \"argo/invalid_sensor.json\"])"
   ]
  },
  {
   "cell_type": "code",
   "execution_count": null,
   "id": "15a17e6e-def1-41e8-92a2-7d3ad17c06d5",
   "metadata": {},
   "outputs": [],
   "source": [
    "# Example of parsing data into Python classes\n",
    "from argo_metadata_validator.validation import ArgoValidator\n",
    "\n",
    "sensor = ArgoValidator().parse(\"argo/valid_sensor.json\")\n",
    "sensor"
   ]
  }
 ],
 "metadata": {
  "kernelspec": {
   "display_name": "Python [conda env:base] *",
   "language": "python",
   "name": "conda-base-py"
  },
  "language_info": {
   "codemirror_mode": {
    "name": "ipython",
    "version": 3
   },
   "file_extension": ".py",
   "mimetype": "text/x-python",
   "name": "python",
   "nbconvert_exporter": "python",
   "pygments_lexer": "ipython3",
   "version": "3.11.13"
  }
 },
 "nbformat": 4,
 "nbformat_minor": 5
}
